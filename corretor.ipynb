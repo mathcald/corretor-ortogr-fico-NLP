{
  "nbformat": 4,
  "nbformat_minor": 0,
  "metadata": {
    "colab": {
      "provenance": [],
      "toc_visible": true,
      "authorship_tag": "ABX9TyP/zUMno7z99rSeCYq30mu4",
      "include_colab_link": true
    },
    "kernelspec": {
      "name": "python3",
      "display_name": "Python 3"
    },
    "language_info": {
      "name": "python"
    }
  },
  "cells": [
    {
      "cell_type": "markdown",
      "metadata": {
        "id": "view-in-github",
        "colab_type": "text"
      },
      "source": [
        "<a href=\"https://colab.research.google.com/github/mathcald/corretor-ortografico-NLP/blob/main/corretor.ipynb\" target=\"_parent\"><img src=\"https://colab.research.google.com/assets/colab-badge.svg\" alt=\"Open In Colab\"/></a>"
      ]
    },
    {
      "cell_type": "markdown",
      "source": [
        "# **Importando arquivo txt**"
      ],
      "metadata": {
        "id": "km8X4lshqZa9"
      }
    },
    {
      "cell_type": "code",
      "execution_count": 1,
      "metadata": {
        "colab": {
          "base_uri": "https://localhost:8080/"
        },
        "id": "W5DmlXJFXhN0",
        "outputId": "f83a4039-1238-4312-cb89-1e06b474f318"
      },
      "outputs": [
        {
          "output_type": "stream",
          "name": "stdout",
          "text": [
            "\n",
            "\n",
            "\n",
            "imagem \n",
            "\n",
            "Temos a seguinte classe que representa um usuário no nosso sistema:\n",
            "\n",
            "java\n",
            "\n",
            "Para salvar um novo usuário, várias validações são feitas, como por exemplo: Ver se o nome só contém letras, [**o CPF só números**] e ver se o usuário possui no mínimo 18 anos. Veja o método que faz essa validação:\n",
            "\n",
            "java \n",
            "\n",
            "Suponha agora que eu tenha outra classe, a classe `Produto`, que contém um atributo nome e eu quero fazer a mesma validação que fiz para o nome do usuário: Ver se só contém letras. E aí? Vou\n"
          ]
        }
      ],
      "source": [
        "with open('artigos.txt', 'r') as f:\n",
        "  artigo = f.read()\n",
        "\n",
        "print(artigo[:500])"
      ]
    },
    {
      "cell_type": "markdown",
      "source": [
        "# **Tokens**\n"
      ],
      "metadata": {
        "id": "EBxClUttqQ6G"
      }
    },
    {
      "cell_type": "code",
      "source": [
        "texto = 'Olá, tudo bem?'"
      ],
      "metadata": {
        "id": "P3lJI4nFoeMq"
      },
      "execution_count": 2,
      "outputs": []
    },
    {
      "cell_type": "code",
      "source": [
        "len(texto)"
      ],
      "metadata": {
        "id": "OzCCVKogopRP",
        "colab": {
          "base_uri": "https://localhost:8080/"
        },
        "outputId": "97982701-b852-47a5-8121-6e72234de13a"
      },
      "execution_count": 3,
      "outputs": [
        {
          "output_type": "execute_result",
          "data": {
            "text/plain": [
              "14"
            ]
          },
          "metadata": {},
          "execution_count": 3
        }
      ]
    },
    {
      "cell_type": "code",
      "source": [
        "tokens = texto.split()\n",
        "tokens"
      ],
      "metadata": {
        "colab": {
          "base_uri": "https://localhost:8080/"
        },
        "id": "viGZx-8motBw",
        "outputId": "eb1ee46c-1d69-4cb1-c4c9-ed5a983d3bc3"
      },
      "execution_count": 4,
      "outputs": [
        {
          "output_type": "execute_result",
          "data": {
            "text/plain": [
              "['Olá,', 'tudo', 'bem?']"
            ]
          },
          "metadata": {},
          "execution_count": 4
        }
      ]
    },
    {
      "cell_type": "code",
      "source": [
        "len(tokens)"
      ],
      "metadata": {
        "colab": {
          "base_uri": "https://localhost:8080/"
        },
        "id": "O1l1AO06oxej",
        "outputId": "0b181597-df28-4c48-dd7a-4b6e06e7cefb"
      },
      "execution_count": 5,
      "outputs": [
        {
          "output_type": "execute_result",
          "data": {
            "text/plain": [
              "3"
            ]
          },
          "metadata": {},
          "execution_count": 5
        }
      ]
    },
    {
      "cell_type": "code",
      "source": [
        "# Fazendo o mesmo com o auxílio no nltk para separar as palavras de pontuação\n",
        "\n",
        "#importando pacotes necessarios\n",
        "import nltk\n",
        "nltk.download('punkt')"
      ],
      "metadata": {
        "colab": {
          "base_uri": "https://localhost:8080/"
        },
        "id": "r1YhN8XxsD9A",
        "outputId": "3be4f0dc-f90a-47ed-a422-952068c88bf8"
      },
      "execution_count": 6,
      "outputs": [
        {
          "output_type": "stream",
          "name": "stderr",
          "text": [
            "[nltk_data] Downloading package punkt to /root/nltk_data...\n",
            "[nltk_data]   Unzipping tokenizers/punkt.zip.\n"
          ]
        },
        {
          "output_type": "execute_result",
          "data": {
            "text/plain": [
              "True"
            ]
          },
          "metadata": {},
          "execution_count": 6
        }
      ]
    },
    {
      "cell_type": "code",
      "source": [
        "tokens_nltk = nltk.tokenize.word_tokenize(texto)\n",
        "print(tokens_nltk)"
      ],
      "metadata": {
        "colab": {
          "base_uri": "https://localhost:8080/"
        },
        "id": "BLBhFgIJsZGW",
        "outputId": "51bb5978-1535-4d01-bdfb-24952238cfa2"
      },
      "execution_count": 7,
      "outputs": [
        {
          "output_type": "stream",
          "name": "stdout",
          "text": [
            "['Olá', ',', 'tudo', 'bem', '?']\n"
          ]
        }
      ]
    },
    {
      "cell_type": "code",
      "source": [
        "len(tokens_nltk)"
      ],
      "metadata": {
        "colab": {
          "base_uri": "https://localhost:8080/"
        },
        "id": "STs9pSSfskxM",
        "outputId": "a9e000d3-b83c-4216-f39a-22279130b011"
      },
      "execution_count": 8,
      "outputs": [
        {
          "output_type": "execute_result",
          "data": {
            "text/plain": [
              "5"
            ]
          },
          "metadata": {},
          "execution_count": 8
        }
      ]
    },
    {
      "cell_type": "code",
      "source": [
        "def separa_palavras(lista_tokens):\n",
        "  lista_palavras = []\n",
        "  for token in lista_tokens:\n",
        "    if token.isalpha():\n",
        "      lista_palavras.append(token)\n",
        "  return lista_palavras\n"
      ],
      "metadata": {
        "id": "hyQdADJlsoxG"
      },
      "execution_count": 9,
      "outputs": []
    },
    {
      "cell_type": "code",
      "source": [
        "separa_palavras(tokens_nltk)"
      ],
      "metadata": {
        "colab": {
          "base_uri": "https://localhost:8080/"
        },
        "id": "z4YAaUWh2MRO",
        "outputId": "c204ef86-3ef0-4be6-9e25-e22b8df2a874"
      },
      "execution_count": 10,
      "outputs": [
        {
          "output_type": "execute_result",
          "data": {
            "text/plain": [
              "['Olá', 'tudo', 'bem']"
            ]
          },
          "metadata": {},
          "execution_count": 10
        }
      ]
    },
    {
      "cell_type": "markdown",
      "source": [
        "## Separando o arquivo .txt\n"
      ],
      "metadata": {
        "id": "ANKyZv2357_D"
      }
    },
    {
      "cell_type": "code",
      "source": [
        "tokens_txt = nltk.tokenize.word_tokenize(artigo)"
      ],
      "metadata": {
        "id": "mOA98Z2a6IMP"
      },
      "execution_count": 11,
      "outputs": []
    },
    {
      "cell_type": "code",
      "source": [
        "palavras_txt = separa_palavras(tokens_txt)"
      ],
      "metadata": {
        "id": "ob-tRfv96rG7"
      },
      "execution_count": 12,
      "outputs": []
    },
    {
      "cell_type": "code",
      "source": [
        "print(f'o arquivo \"artigos.txt\" possui {len(palavras_txt)} palavras')"
      ],
      "metadata": {
        "colab": {
          "base_uri": "https://localhost:8080/"
        },
        "id": "89Oc3kTd68Fb",
        "outputId": "668575bb-de85-428f-e61a-b40ac9cec7b2"
      },
      "execution_count": 13,
      "outputs": [
        {
          "output_type": "stream",
          "name": "stdout",
          "text": [
            "o arquivo \"artigos.txt\" possui 403031 palavras\n"
          ]
        }
      ]
    },
    {
      "cell_type": "markdown",
      "source": [
        "## Normalizando as palavras"
      ],
      "metadata": {
        "id": "ZExWhmhzvX13"
      }
    },
    {
      "cell_type": "code",
      "source": [
        "palavras_txt[:7] # urge a necessidade de botar todas as strings em minusculo"
      ],
      "metadata": {
        "colab": {
          "base_uri": "https://localhost:8080/"
        },
        "id": "gcW0oFTFvcXr",
        "outputId": "3735f074-ef68-4d84-e322-b8c1975d8b99"
      },
      "execution_count": 14,
      "outputs": [
        {
          "output_type": "execute_result",
          "data": {
            "text/plain": [
              "['imagem', 'Temos', 'a', 'seguinte', 'classe', 'que', 'representa']"
            ]
          },
          "metadata": {},
          "execution_count": 14
        }
      ]
    },
    {
      "cell_type": "code",
      "source": [
        "def normaliza_palavras(lista_palavras):\n",
        "  lista_normalizada = []\n",
        "  for palavra in lista_palavras:\n",
        "    lista_normalizada.append(palavra.lower())\n",
        "  return lista_normalizada"
      ],
      "metadata": {
        "id": "I9G1wfGrxdIA"
      },
      "execution_count": 15,
      "outputs": []
    },
    {
      "cell_type": "code",
      "source": [
        "lista_normalizada = normaliza_palavras(palavras_txt)"
      ],
      "metadata": {
        "id": "FJ2-Egpnx6To"
      },
      "execution_count": 16,
      "outputs": []
    },
    {
      "cell_type": "code",
      "source": [
        "lista_normalizada[:7]"
      ],
      "metadata": {
        "colab": {
          "base_uri": "https://localhost:8080/"
        },
        "id": "McksJzl1zg99",
        "outputId": "43290b79-3496-40c8-a93d-0480871bc272"
      },
      "execution_count": 17,
      "outputs": [
        {
          "output_type": "execute_result",
          "data": {
            "text/plain": [
              "['imagem', 'temos', 'a', 'seguinte', 'classe', 'que', 'representa']"
            ]
          },
          "metadata": {},
          "execution_count": 17
        }
      ]
    },
    {
      "cell_type": "code",
      "source": [
        "set([1, 2, 2, 3, 3, 3, 4, 4, 4, 4, 5, 5, 5, 5, 5]) # função que retorna os valores sem repetição"
      ],
      "metadata": {
        "colab": {
          "base_uri": "https://localhost:8080/"
        },
        "id": "CNg550tg0KJx",
        "outputId": "332335af-d17a-477e-c750-1fe2e0721161"
      },
      "execution_count": 18,
      "outputs": [
        {
          "output_type": "execute_result",
          "data": {
            "text/plain": [
              "{1, 2, 3, 4, 5}"
            ]
          },
          "metadata": {},
          "execution_count": 18
        }
      ]
    },
    {
      "cell_type": "code",
      "source": [
        "# Quantidade de palavras no nosso dicionário\n",
        "len(set(lista_normalizada))"
      ],
      "metadata": {
        "colab": {
          "base_uri": "https://localhost:8080/"
        },
        "id": "W0aD7pn30pYm",
        "outputId": "60fe00d6-2551-43e0-bd5f-0cbbea5114a8"
      },
      "execution_count": 19,
      "outputs": [
        {
          "output_type": "execute_result",
          "data": {
            "text/plain": [
              "18464"
            ]
          },
          "metadata": {},
          "execution_count": 19
        }
      ]
    },
    {
      "cell_type": "code",
      "source": [
        "# entendendo o slice e as tuplas\n",
        "lista = 'lgica'\n",
        "(lista[:1], lista[1:])"
      ],
      "metadata": {
        "colab": {
          "base_uri": "https://localhost:8080/"
        },
        "id": "d_FBmIzQTNQ8",
        "outputId": "c3072edf-bfcf-40c1-e074-739845f87117"
      },
      "execution_count": 20,
      "outputs": [
        {
          "output_type": "execute_result",
          "data": {
            "text/plain": [
              "('l', 'gica')"
            ]
          },
          "metadata": {},
          "execution_count": 20
        }
      ]
    },
    {
      "cell_type": "markdown",
      "source": [
        "# **Criando o Corretor**"
      ],
      "metadata": {
        "id": "724pZCN9TFY1"
      }
    },
    {
      "cell_type": "code",
      "source": [
        "def insere_letras(fatias):\n",
        "  novas_palavras = []\n",
        "  letras = \"abcdefghijklmnopqrstuvwxyzáéíóúãõàèìòùçâêîôû\"\n",
        "  for L, R in fatias:\n",
        "    for letra in letras:\n",
        "      novas_palavras.append(L + letra + R)\n",
        "  return novas_palavras \n",
        "\n",
        "def deletando_caracter(fatias):\n",
        "  novas_palavras = []\n",
        "  for E, D in fatias:\n",
        "      novas_palavras.append(E + D[1:])\n",
        "  return novas_palavras\n",
        "\n",
        "def troca_letra(fatias):\n",
        "  novas_palavras = []\n",
        "  letras = \"abcdefghijklmnopqrstuvwxyzáéíóúãõàèìòùçâêîôû\"\n",
        "  for L, R in fatias:\n",
        "    for letra in letras:\n",
        "      novas_palavras.append(L + letra + R[1:])\n",
        "  return novas_palavras\n",
        "\n",
        "def inverte_letras(fatias):\n",
        "  novas_palavras = []\n",
        "  for L, R in fatias:\n",
        "    if len(R) > 1: novas_palavras.append(L + R[1] + R[0] + R[2:])\n",
        "  return novas_palavras"
      ],
      "metadata": {
        "id": "Lo-KOQu0JWc-"
      },
      "execution_count": 21,
      "outputs": []
    },
    {
      "cell_type": "code",
      "source": [
        "def gerador_palavras(palavra):\n",
        "  fatias = []\n",
        "  for i in range(len(palavra)+1):\n",
        "    fatias.append((palavra[:i],palavra[i:]))\n",
        "    palavras_geradas = insere_letras(fatias)\n",
        "    palavras_geradas += deletando_caracter(fatias)\n",
        "    palavras_geradas += troca_letra(fatias)\n",
        "    palavras_geradas += inverte_letras(fatias)\n",
        "  return palavras_geradas"
      ],
      "metadata": {
        "id": "Qe-xoRQgUJnz"
      },
      "execution_count": 22,
      "outputs": []
    },
    {
      "cell_type": "code",
      "source": [
        "palavras_geradas = gerador_palavras('lgica')\n",
        "print(palavras_geradas)"
      ],
      "metadata": {
        "colab": {
          "base_uri": "https://localhost:8080/"
        },
        "id": "7i_UFcQ_tLG4",
        "outputId": "e4101dc0-d922-413e-b5e2-ff5c6dfc9184"
      },
      "execution_count": 23,
      "outputs": [
        {
          "output_type": "stream",
          "name": "stdout",
          "text": [
            "['algica', 'blgica', 'clgica', 'dlgica', 'elgica', 'flgica', 'glgica', 'hlgica', 'ilgica', 'jlgica', 'klgica', 'llgica', 'mlgica', 'nlgica', 'olgica', 'plgica', 'qlgica', 'rlgica', 'slgica', 'tlgica', 'ulgica', 'vlgica', 'wlgica', 'xlgica', 'ylgica', 'zlgica', 'álgica', 'élgica', 'ílgica', 'ólgica', 'úlgica', 'ãlgica', 'õlgica', 'àlgica', 'èlgica', 'ìlgica', 'òlgica', 'ùlgica', 'çlgica', 'âlgica', 'êlgica', 'îlgica', 'ôlgica', 'ûlgica', 'lagica', 'lbgica', 'lcgica', 'ldgica', 'legica', 'lfgica', 'lggica', 'lhgica', 'ligica', 'ljgica', 'lkgica', 'llgica', 'lmgica', 'lngica', 'logica', 'lpgica', 'lqgica', 'lrgica', 'lsgica', 'ltgica', 'lugica', 'lvgica', 'lwgica', 'lxgica', 'lygica', 'lzgica', 'lágica', 'légica', 'lígica', 'lógica', 'lúgica', 'lãgica', 'lõgica', 'làgica', 'lègica', 'lìgica', 'lògica', 'lùgica', 'lçgica', 'lâgica', 'lêgica', 'lîgica', 'lôgica', 'lûgica', 'lgaica', 'lgbica', 'lgcica', 'lgdica', 'lgeica', 'lgfica', 'lggica', 'lghica', 'lgiica', 'lgjica', 'lgkica', 'lglica', 'lgmica', 'lgnica', 'lgoica', 'lgpica', 'lgqica', 'lgrica', 'lgsica', 'lgtica', 'lguica', 'lgvica', 'lgwica', 'lgxica', 'lgyica', 'lgzica', 'lgáica', 'lgéica', 'lgíica', 'lgóica', 'lgúica', 'lgãica', 'lgõica', 'lgàica', 'lgèica', 'lgìica', 'lgòica', 'lgùica', 'lgçica', 'lgâica', 'lgêica', 'lgîica', 'lgôica', 'lgûica', 'lgiaca', 'lgibca', 'lgicca', 'lgidca', 'lgieca', 'lgifca', 'lgigca', 'lgihca', 'lgiica', 'lgijca', 'lgikca', 'lgilca', 'lgimca', 'lginca', 'lgioca', 'lgipca', 'lgiqca', 'lgirca', 'lgisca', 'lgitca', 'lgiuca', 'lgivca', 'lgiwca', 'lgixca', 'lgiyca', 'lgizca', 'lgiáca', 'lgiéca', 'lgiíca', 'lgióca', 'lgiúca', 'lgiãca', 'lgiõca', 'lgiàca', 'lgièca', 'lgiìca', 'lgiòca', 'lgiùca', 'lgiçca', 'lgiâca', 'lgiêca', 'lgiîca', 'lgiôca', 'lgiûca', 'lgicaa', 'lgicba', 'lgicca', 'lgicda', 'lgicea', 'lgicfa', 'lgicga', 'lgicha', 'lgicia', 'lgicja', 'lgicka', 'lgicla', 'lgicma', 'lgicna', 'lgicoa', 'lgicpa', 'lgicqa', 'lgicra', 'lgicsa', 'lgicta', 'lgicua', 'lgicva', 'lgicwa', 'lgicxa', 'lgicya', 'lgicza', 'lgicáa', 'lgicéa', 'lgicía', 'lgicóa', 'lgicúa', 'lgicãa', 'lgicõa', 'lgicàa', 'lgicèa', 'lgicìa', 'lgicòa', 'lgicùa', 'lgicça', 'lgicâa', 'lgicêa', 'lgicîa', 'lgicôa', 'lgicûa', 'lgicaa', 'lgicab', 'lgicac', 'lgicad', 'lgicae', 'lgicaf', 'lgicag', 'lgicah', 'lgicai', 'lgicaj', 'lgicak', 'lgical', 'lgicam', 'lgican', 'lgicao', 'lgicap', 'lgicaq', 'lgicar', 'lgicas', 'lgicat', 'lgicau', 'lgicav', 'lgicaw', 'lgicax', 'lgicay', 'lgicaz', 'lgicaá', 'lgicaé', 'lgicaí', 'lgicaó', 'lgicaú', 'lgicaã', 'lgicaõ', 'lgicaà', 'lgicaè', 'lgicaì', 'lgicaò', 'lgicaù', 'lgicaç', 'lgicaâ', 'lgicaê', 'lgicaî', 'lgicaô', 'lgicaû', 'gica', 'lica', 'lgca', 'lgia', 'lgic', 'lgica', 'agica', 'bgica', 'cgica', 'dgica', 'egica', 'fgica', 'ggica', 'hgica', 'igica', 'jgica', 'kgica', 'lgica', 'mgica', 'ngica', 'ogica', 'pgica', 'qgica', 'rgica', 'sgica', 'tgica', 'ugica', 'vgica', 'wgica', 'xgica', 'ygica', 'zgica', 'ágica', 'égica', 'ígica', 'ógica', 'úgica', 'ãgica', 'õgica', 'àgica', 'ègica', 'ìgica', 'ògica', 'ùgica', 'çgica', 'âgica', 'êgica', 'îgica', 'ôgica', 'ûgica', 'laica', 'lbica', 'lcica', 'ldica', 'leica', 'lfica', 'lgica', 'lhica', 'liica', 'ljica', 'lkica', 'llica', 'lmica', 'lnica', 'loica', 'lpica', 'lqica', 'lrica', 'lsica', 'ltica', 'luica', 'lvica', 'lwica', 'lxica', 'lyica', 'lzica', 'láica', 'léica', 'líica', 'lóica', 'lúica', 'lãica', 'lõica', 'làica', 'lèica', 'lìica', 'lòica', 'lùica', 'lçica', 'lâica', 'lêica', 'lîica', 'lôica', 'lûica', 'lgaca', 'lgbca', 'lgcca', 'lgdca', 'lgeca', 'lgfca', 'lggca', 'lghca', 'lgica', 'lgjca', 'lgkca', 'lglca', 'lgmca', 'lgnca', 'lgoca', 'lgpca', 'lgqca', 'lgrca', 'lgsca', 'lgtca', 'lguca', 'lgvca', 'lgwca', 'lgxca', 'lgyca', 'lgzca', 'lgáca', 'lgéca', 'lgíca', 'lgóca', 'lgúca', 'lgãca', 'lgõca', 'lgàca', 'lgèca', 'lgìca', 'lgòca', 'lgùca', 'lgçca', 'lgâca', 'lgêca', 'lgîca', 'lgôca', 'lgûca', 'lgiaa', 'lgiba', 'lgica', 'lgida', 'lgiea', 'lgifa', 'lgiga', 'lgiha', 'lgiia', 'lgija', 'lgika', 'lgila', 'lgima', 'lgina', 'lgioa', 'lgipa', 'lgiqa', 'lgira', 'lgisa', 'lgita', 'lgiua', 'lgiva', 'lgiwa', 'lgixa', 'lgiya', 'lgiza', 'lgiáa', 'lgiéa', 'lgiía', 'lgióa', 'lgiúa', 'lgiãa', 'lgiõa', 'lgiàa', 'lgièa', 'lgiìa', 'lgiòa', 'lgiùa', 'lgiça', 'lgiâa', 'lgiêa', 'lgiîa', 'lgiôa', 'lgiûa', 'lgica', 'lgicb', 'lgicc', 'lgicd', 'lgice', 'lgicf', 'lgicg', 'lgich', 'lgici', 'lgicj', 'lgick', 'lgicl', 'lgicm', 'lgicn', 'lgico', 'lgicp', 'lgicq', 'lgicr', 'lgics', 'lgict', 'lgicu', 'lgicv', 'lgicw', 'lgicx', 'lgicy', 'lgicz', 'lgicá', 'lgicé', 'lgicí', 'lgicó', 'lgicú', 'lgicã', 'lgicõ', 'lgicà', 'lgicè', 'lgicì', 'lgicò', 'lgicù', 'lgicç', 'lgicâ', 'lgicê', 'lgicî', 'lgicô', 'lgicû', 'lgicaa', 'lgicab', 'lgicac', 'lgicad', 'lgicae', 'lgicaf', 'lgicag', 'lgicah', 'lgicai', 'lgicaj', 'lgicak', 'lgical', 'lgicam', 'lgican', 'lgicao', 'lgicap', 'lgicaq', 'lgicar', 'lgicas', 'lgicat', 'lgicau', 'lgicav', 'lgicaw', 'lgicax', 'lgicay', 'lgicaz', 'lgicaá', 'lgicaé', 'lgicaí', 'lgicaó', 'lgicaú', 'lgicaã', 'lgicaõ', 'lgicaà', 'lgicaè', 'lgicaì', 'lgicaò', 'lgicaù', 'lgicaç', 'lgicaâ', 'lgicaê', 'lgicaî', 'lgicaô', 'lgicaû', 'glica', 'ligca', 'lgcia', 'lgiac']\n"
          ]
        }
      ]
    },
    {
      "cell_type": "markdown",
      "source": [
        "## Frequencia e pobabilidades"
      ],
      "metadata": {
        "id": "tOFYEaC5Epdp"
      }
    },
    {
      "cell_type": "code",
      "source": [
        "frequencia = nltk.FreqDist(lista_normalizada)\n",
        "total_palavras = len(lista_normalizada)\n",
        "frequencia.most_common(10)"
      ],
      "metadata": {
        "colab": {
          "base_uri": "https://localhost:8080/"
        },
        "id": "yQKBL4Y7Ec_F",
        "outputId": "504de023-2870-4ed7-b43c-8b159d44c9c3"
      },
      "execution_count": 24,
      "outputs": [
        {
          "output_type": "execute_result",
          "data": {
            "text/plain": [
              "[('de', 15502),\n",
              " ('o', 14056),\n",
              " ('que', 12230),\n",
              " ('a', 11099),\n",
              " ('e', 10501),\n",
              " ('para', 7710),\n",
              " ('um', 6367),\n",
              " ('é', 5899),\n",
              " ('uma', 5220),\n",
              " ('do', 5124)]"
            ]
          },
          "metadata": {},
          "execution_count": 24
        }
      ]
    },
    {
      "cell_type": "code",
      "source": [
        "def probabilidade(palavra_gerada):\n",
        "    return frequencia[palavra_gerada]/total_palavras"
      ],
      "metadata": {
        "id": "F3BVUsGdFMNF"
      },
      "execution_count": 25,
      "outputs": []
    },
    {
      "cell_type": "code",
      "source": [
        "probabilidade('logica')"
      ],
      "metadata": {
        "colab": {
          "base_uri": "https://localhost:8080/"
        },
        "id": "Hbuehi_4FMOp",
        "outputId": "fc945ff6-bed0-4053-c1c2-9726cf905dea"
      },
      "execution_count": 26,
      "outputs": [
        {
          "output_type": "execute_result",
          "data": {
            "text/plain": [
              "0.0"
            ]
          },
          "metadata": {},
          "execution_count": 26
        }
      ]
    },
    {
      "cell_type": "code",
      "source": [
        "def corretor(palavra):\n",
        "  palavras_geradas = gerador_palavras(palavra)\n",
        "  palavra_correta = max(palavras_geradas, key = probabilidade)\n",
        "  return palavra_correta"
      ],
      "metadata": {
        "id": "CZDDbOZnxPy-"
      },
      "execution_count": 27,
      "outputs": []
    },
    {
      "cell_type": "code",
      "source": [
        "frequencia['lógica']"
      ],
      "metadata": {
        "colab": {
          "base_uri": "https://localhost:8080/"
        },
        "id": "kguaTSqkesB4",
        "outputId": "e8e2ee32-359c-4091-cfc6-60b2ff1e9408"
      },
      "execution_count": 28,
      "outputs": [
        {
          "output_type": "execute_result",
          "data": {
            "text/plain": [
              "96"
            ]
          },
          "metadata": {},
          "execution_count": 28
        }
      ]
    },
    {
      "cell_type": "code",
      "source": [
        "def probabilidade(palavra_gerada):\n",
        "  return frequencia[palavra_gerada]/total_palavras\n",
        "\n",
        "probabilidade('lágica') ## 0 porque nao existe "
      ],
      "metadata": {
        "colab": {
          "base_uri": "https://localhost:8080/"
        },
        "id": "7zpKKtWPe0W6",
        "outputId": "1bf28400-a999-45ca-943d-2d05bc0d5666"
      },
      "execution_count": 29,
      "outputs": [
        {
          "output_type": "execute_result",
          "data": {
            "text/plain": [
              "0.0"
            ]
          },
          "metadata": {},
          "execution_count": 29
        }
      ]
    },
    {
      "cell_type": "code",
      "source": [
        "probabilidade('lógica') "
      ],
      "metadata": {
        "colab": {
          "base_uri": "https://localhost:8080/"
        },
        "id": "M6bCpcUpfvRu",
        "outputId": "972d0f22-c432-4405-cb88-8ea94f14979d"
      },
      "execution_count": 30,
      "outputs": [
        {
          "output_type": "execute_result",
          "data": {
            "text/plain": [
              "0.00023819507680550628"
            ]
          },
          "metadata": {},
          "execution_count": 30
        }
      ]
    },
    {
      "cell_type": "code",
      "source": [
        "palavra_exemplo = 'lgica'\n",
        "corretor(palavra_exemplo)"
      ],
      "metadata": {
        "colab": {
          "base_uri": "https://localhost:8080/",
          "height": 35
        },
        "id": "aOmyeDRdgCgb",
        "outputId": "87633d87-2b90-4a04-9a1a-bd73b055051c"
      },
      "execution_count": 31,
      "outputs": [
        {
          "output_type": "execute_result",
          "data": {
            "text/plain": [
              "'lógica'"
            ],
            "application/vnd.google.colaboratory.intrinsic+json": {
              "type": "string"
            }
          },
          "metadata": {},
          "execution_count": 31
        }
      ]
    },
    {
      "cell_type": "code",
      "source": [
        "def cria_dados_teste(nome_arquivo):\n",
        "  lista_palavras_teste = []\n",
        "  f = open(nome_arquivo, \"r\")\n",
        "  for linha in f: \n",
        "    correta, errada = linha.split()\n",
        "    lista_palavras_teste.append((correta, errada))\n",
        "  \n",
        "  f.close()\n",
        "  return lista_palavras_teste\n",
        "\n",
        "\n",
        "lista_teste = cria_dados_teste('palavras.txt')\n",
        "lista_teste[:10]"
      ],
      "metadata": {
        "colab": {
          "base_uri": "https://localhost:8080/"
        },
        "id": "IONYBT0qkf0C",
        "outputId": "4640e65a-4352-41db-bc78-488158a14bd9"
      },
      "execution_count": 32,
      "outputs": [
        {
          "output_type": "execute_result",
          "data": {
            "text/plain": [
              "[('podemos', 'pyodemos'),\n",
              " ('esse', 'esje'),\n",
              " ('já', 'jrá'),\n",
              " ('nosso', 'nossov'),\n",
              " ('são', 'sãêo'),\n",
              " ('dos', 'dosa'),\n",
              " ('muito', 'muifo'),\n",
              " ('imagem', 'iômagem'),\n",
              " ('sua', 'ósua'),\n",
              " ('também', 'tambéùm')]"
            ]
          },
          "metadata": {},
          "execution_count": 32
        }
      ]
    },
    {
      "cell_type": "markdown",
      "source": [
        "## Avaliando desempenho do corretor"
      ],
      "metadata": {
        "id": "YXx-W48LqToj"
      }
    },
    {
      "cell_type": "code",
      "source": [
        "def avaliador(testes, vocabulario):\n",
        "  numero_palavras_testadas = len(testes)\n",
        "  acertou = 0\n",
        "  desconhecida = 0\n",
        "  for correta, errada in testes: \n",
        "    palavra_corrigida = corretor(errada)\n",
        "    if palavra_corrigida == correta: acertou += 1 \n",
        "    else: desconhecida += (correta not in vocabulario)\n",
        "  taxa_acerto = round(acertou*100/numero_palavras_testadas, 2)\n",
        "  taxa_desconhecida = round(desconhecida*100/numero_palavras_testadas, 2)\n",
        "  print(f'taxa de acerto: {taxa_acerto}% de {numero_palavras_testadas} palavras testadas | Desconhecidas: {taxa_desconhecida}%')\n",
        "\n",
        "# teste\n",
        "vocabulario = set(lista_normalizada)\n",
        "avaliador(lista_teste, vocabulario)"
      ],
      "metadata": {
        "colab": {
          "base_uri": "https://localhost:8080/"
        },
        "id": "_K3DyibooLRI",
        "outputId": "66bb3fdb-5dc6-4e99-fccb-b9e827f03354"
      },
      "execution_count": 40,
      "outputs": [
        {
          "output_type": "stream",
          "name": "stdout",
          "text": [
            "taxa de acerto: 76.34% de 186 palavras testadas | Desconhecidas: 6.99%\n"
          ]
        }
      ]
    },
    {
      "cell_type": "code",
      "source": [
        "print(gerador_palavras('lógiac'))"
      ],
      "metadata": {
        "colab": {
          "base_uri": "https://localhost:8080/"
        },
        "id": "Euv0ABxPHXi2",
        "outputId": "63d7bf66-4c0a-45bb-96df-c2fa32519d71"
      },
      "execution_count": 34,
      "outputs": [
        {
          "output_type": "stream",
          "name": "stdout",
          "text": [
            "['alógiac', 'blógiac', 'clógiac', 'dlógiac', 'elógiac', 'flógiac', 'glógiac', 'hlógiac', 'ilógiac', 'jlógiac', 'klógiac', 'llógiac', 'mlógiac', 'nlógiac', 'ológiac', 'plógiac', 'qlógiac', 'rlógiac', 'slógiac', 'tlógiac', 'ulógiac', 'vlógiac', 'wlógiac', 'xlógiac', 'ylógiac', 'zlógiac', 'álógiac', 'élógiac', 'ílógiac', 'ólógiac', 'úlógiac', 'ãlógiac', 'õlógiac', 'àlógiac', 'èlógiac', 'ìlógiac', 'òlógiac', 'ùlógiac', 'çlógiac', 'âlógiac', 'êlógiac', 'îlógiac', 'ôlógiac', 'ûlógiac', 'laógiac', 'lbógiac', 'lcógiac', 'ldógiac', 'leógiac', 'lfógiac', 'lgógiac', 'lhógiac', 'liógiac', 'ljógiac', 'lkógiac', 'llógiac', 'lmógiac', 'lnógiac', 'loógiac', 'lpógiac', 'lqógiac', 'lrógiac', 'lsógiac', 'ltógiac', 'luógiac', 'lvógiac', 'lwógiac', 'lxógiac', 'lyógiac', 'lzógiac', 'láógiac', 'léógiac', 'líógiac', 'lóógiac', 'lúógiac', 'lãógiac', 'lõógiac', 'làógiac', 'lèógiac', 'lìógiac', 'lòógiac', 'lùógiac', 'lçógiac', 'lâógiac', 'lêógiac', 'lîógiac', 'lôógiac', 'lûógiac', 'lóagiac', 'lóbgiac', 'lócgiac', 'lódgiac', 'lóegiac', 'lófgiac', 'lóggiac', 'lóhgiac', 'lóigiac', 'lójgiac', 'lókgiac', 'lólgiac', 'lómgiac', 'lóngiac', 'lóogiac', 'lópgiac', 'lóqgiac', 'lórgiac', 'lósgiac', 'lótgiac', 'lóugiac', 'lóvgiac', 'lówgiac', 'lóxgiac', 'lóygiac', 'lózgiac', 'lóágiac', 'lóégiac', 'lóígiac', 'lóógiac', 'lóúgiac', 'lóãgiac', 'lóõgiac', 'lóàgiac', 'lóègiac', 'lóìgiac', 'lóògiac', 'lóùgiac', 'lóçgiac', 'lóâgiac', 'lóêgiac', 'lóîgiac', 'lóôgiac', 'lóûgiac', 'lógaiac', 'lógbiac', 'lógciac', 'lógdiac', 'lógeiac', 'lógfiac', 'lóggiac', 'lóghiac', 'lógiiac', 'lógjiac', 'lógkiac', 'lógliac', 'lógmiac', 'lógniac', 'lógoiac', 'lógpiac', 'lógqiac', 'lógriac', 'lógsiac', 'lógtiac', 'lóguiac', 'lógviac', 'lógwiac', 'lógxiac', 'lógyiac', 'lógziac', 'lógáiac', 'lógéiac', 'lógíiac', 'lógóiac', 'lógúiac', 'lógãiac', 'lógõiac', 'lógàiac', 'lógèiac', 'lógìiac', 'lógòiac', 'lógùiac', 'lógçiac', 'lógâiac', 'lógêiac', 'lógîiac', 'lógôiac', 'lógûiac', 'lógiaac', 'lógibac', 'lógicac', 'lógidac', 'lógieac', 'lógifac', 'lógigac', 'lógihac', 'lógiiac', 'lógijac', 'lógikac', 'lógilac', 'lógimac', 'lóginac', 'lógioac', 'lógipac', 'lógiqac', 'lógirac', 'lógisac', 'lógitac', 'lógiuac', 'lógivac', 'lógiwac', 'lógixac', 'lógiyac', 'lógizac', 'lógiáac', 'lógiéac', 'lógiíac', 'lógióac', 'lógiúac', 'lógiãac', 'lógiõac', 'lógiàac', 'lógièac', 'lógiìac', 'lógiòac', 'lógiùac', 'lógiçac', 'lógiâac', 'lógiêac', 'lógiîac', 'lógiôac', 'lógiûac', 'lógiaac', 'lógiabc', 'lógiacc', 'lógiadc', 'lógiaec', 'lógiafc', 'lógiagc', 'lógiahc', 'lógiaic', 'lógiajc', 'lógiakc', 'lógialc', 'lógiamc', 'lógianc', 'lógiaoc', 'lógiapc', 'lógiaqc', 'lógiarc', 'lógiasc', 'lógiatc', 'lógiauc', 'lógiavc', 'lógiawc', 'lógiaxc', 'lógiayc', 'lógiazc', 'lógiaác', 'lógiaéc', 'lógiaíc', 'lógiaóc', 'lógiaúc', 'lógiaãc', 'lógiaõc', 'lógiaàc', 'lógiaèc', 'lógiaìc', 'lógiaòc', 'lógiaùc', 'lógiaçc', 'lógiaâc', 'lógiaêc', 'lógiaîc', 'lógiaôc', 'lógiaûc', 'lógiaca', 'lógiacb', 'lógiacc', 'lógiacd', 'lógiace', 'lógiacf', 'lógiacg', 'lógiach', 'lógiaci', 'lógiacj', 'lógiack', 'lógiacl', 'lógiacm', 'lógiacn', 'lógiaco', 'lógiacp', 'lógiacq', 'lógiacr', 'lógiacs', 'lógiact', 'lógiacu', 'lógiacv', 'lógiacw', 'lógiacx', 'lógiacy', 'lógiacz', 'lógiacá', 'lógiacé', 'lógiací', 'lógiacó', 'lógiacú', 'lógiacã', 'lógiacõ', 'lógiacà', 'lógiacè', 'lógiacì', 'lógiacò', 'lógiacù', 'lógiacç', 'lógiacâ', 'lógiacê', 'lógiacî', 'lógiacô', 'lógiacû', 'ógiac', 'lgiac', 'lóiac', 'lógac', 'lógic', 'lógia', 'lógiac', 'aógiac', 'bógiac', 'cógiac', 'dógiac', 'eógiac', 'fógiac', 'gógiac', 'hógiac', 'iógiac', 'jógiac', 'kógiac', 'lógiac', 'mógiac', 'nógiac', 'oógiac', 'pógiac', 'qógiac', 'rógiac', 'sógiac', 'tógiac', 'uógiac', 'vógiac', 'wógiac', 'xógiac', 'yógiac', 'zógiac', 'áógiac', 'éógiac', 'íógiac', 'óógiac', 'úógiac', 'ãógiac', 'õógiac', 'àógiac', 'èógiac', 'ìógiac', 'òógiac', 'ùógiac', 'çógiac', 'âógiac', 'êógiac', 'îógiac', 'ôógiac', 'ûógiac', 'lagiac', 'lbgiac', 'lcgiac', 'ldgiac', 'legiac', 'lfgiac', 'lggiac', 'lhgiac', 'ligiac', 'ljgiac', 'lkgiac', 'llgiac', 'lmgiac', 'lngiac', 'logiac', 'lpgiac', 'lqgiac', 'lrgiac', 'lsgiac', 'ltgiac', 'lugiac', 'lvgiac', 'lwgiac', 'lxgiac', 'lygiac', 'lzgiac', 'lágiac', 'légiac', 'lígiac', 'lógiac', 'lúgiac', 'lãgiac', 'lõgiac', 'làgiac', 'lègiac', 'lìgiac', 'lògiac', 'lùgiac', 'lçgiac', 'lâgiac', 'lêgiac', 'lîgiac', 'lôgiac', 'lûgiac', 'lóaiac', 'lóbiac', 'lóciac', 'lódiac', 'lóeiac', 'lófiac', 'lógiac', 'lóhiac', 'lóiiac', 'lójiac', 'lókiac', 'lóliac', 'lómiac', 'lóniac', 'lóoiac', 'lópiac', 'lóqiac', 'lóriac', 'lósiac', 'lótiac', 'lóuiac', 'lóviac', 'lówiac', 'lóxiac', 'lóyiac', 'lóziac', 'lóáiac', 'lóéiac', 'lóíiac', 'lóóiac', 'lóúiac', 'lóãiac', 'lóõiac', 'lóàiac', 'lóèiac', 'lóìiac', 'lóòiac', 'lóùiac', 'lóçiac', 'lóâiac', 'lóêiac', 'lóîiac', 'lóôiac', 'lóûiac', 'lógaac', 'lógbac', 'lógcac', 'lógdac', 'lógeac', 'lógfac', 'lóggac', 'lóghac', 'lógiac', 'lógjac', 'lógkac', 'lóglac', 'lógmac', 'lógnac', 'lógoac', 'lógpac', 'lógqac', 'lógrac', 'lógsac', 'lógtac', 'lóguac', 'lógvac', 'lógwac', 'lógxac', 'lógyac', 'lógzac', 'lógáac', 'lógéac', 'lógíac', 'lógóac', 'lógúac', 'lógãac', 'lógõac', 'lógàac', 'lógèac', 'lógìac', 'lógòac', 'lógùac', 'lógçac', 'lógâac', 'lógêac', 'lógîac', 'lógôac', 'lógûac', 'lógiac', 'lógibc', 'lógicc', 'lógidc', 'lógiec', 'lógifc', 'lógigc', 'lógihc', 'lógiic', 'lógijc', 'lógikc', 'lógilc', 'lógimc', 'lóginc', 'lógioc', 'lógipc', 'lógiqc', 'lógirc', 'lógisc', 'lógitc', 'lógiuc', 'lógivc', 'lógiwc', 'lógixc', 'lógiyc', 'lógizc', 'lógiác', 'lógiéc', 'lógiíc', 'lógióc', 'lógiúc', 'lógiãc', 'lógiõc', 'lógiàc', 'lógièc', 'lógiìc', 'lógiòc', 'lógiùc', 'lógiçc', 'lógiâc', 'lógiêc', 'lógiîc', 'lógiôc', 'lógiûc', 'lógiaa', 'lógiab', 'lógiac', 'lógiad', 'lógiae', 'lógiaf', 'lógiag', 'lógiah', 'lógiai', 'lógiaj', 'lógiak', 'lógial', 'lógiam', 'lógian', 'lógiao', 'lógiap', 'lógiaq', 'lógiar', 'lógias', 'lógiat', 'lógiau', 'lógiav', 'lógiaw', 'lógiax', 'lógiay', 'lógiaz', 'lógiaá', 'lógiaé', 'lógiaí', 'lógiaó', 'lógiaú', 'lógiaã', 'lógiaõ', 'lógiaà', 'lógiaè', 'lógiaì', 'lógiaò', 'lógiaù', 'lógiaç', 'lógiaâ', 'lógiaê', 'lógiaî', 'lógiaô', 'lógiaû', 'lógiaca', 'lógiacb', 'lógiacc', 'lógiacd', 'lógiace', 'lógiacf', 'lógiacg', 'lógiach', 'lógiaci', 'lógiacj', 'lógiack', 'lógiacl', 'lógiacm', 'lógiacn', 'lógiaco', 'lógiacp', 'lógiacq', 'lógiacr', 'lógiacs', 'lógiact', 'lógiacu', 'lógiacv', 'lógiacw', 'lógiacx', 'lógiacy', 'lógiacz', 'lógiacá', 'lógiacé', 'lógiací', 'lógiacó', 'lógiacú', 'lógiacã', 'lógiacõ', 'lógiacà', 'lógiacè', 'lógiacì', 'lógiacò', 'lógiacù', 'lógiacç', 'lógiacâ', 'lógiacê', 'lógiacî', 'lógiacô', 'lógiacû', 'ólgiac', 'lgóiac', 'lóigac', 'lógaic', 'lógica']\n"
          ]
        }
      ]
    },
    {
      "cell_type": "code",
      "source": [
        "palavra = 'logiica'\n",
        "\n",
        "def gerador_turbinado(palavras_geradas):\n",
        "  novas_palavras = []\n",
        "  for palavra in palavras_geradas:\n",
        "    novas_palavras += gerador_palavras(palavra)\n",
        "  return novas_palavras"
      ],
      "metadata": {
        "id": "mRJ4t692I_Et"
      },
      "execution_count": 38,
      "outputs": []
    },
    {
      "cell_type": "code",
      "source": [
        "palavras_g = gerador_turbinado(gerador_palavras(palavra))\n",
        "'lógica' in palavras_g"
      ],
      "metadata": {
        "colab": {
          "base_uri": "https://localhost:8080/"
        },
        "id": "GUa3qP3k-odE",
        "outputId": "5af7d5f5-c7e2-49d3-cc4f-a949e6e80df9"
      },
      "execution_count": 39,
      "outputs": [
        {
          "output_type": "execute_result",
          "data": {
            "text/plain": [
              "True"
            ]
          },
          "metadata": {},
          "execution_count": 39
        }
      ]
    },
    {
      "cell_type": "code",
      "source": [
        "def novo_corretor(palavra):\n",
        "  palavras_geradas = gerador_palavras(palavra)\n",
        "  palavras_turbinado = gerador_turbinado(palavras_geradas)\n",
        "  todas_palavras = set(palavras_geradas + palavras_turbinado)\n",
        "  candidatos = [palavra]\n",
        "  for palavra in todas_palavras:\n",
        "    if palavra in vocabulario:\n",
        "      candidatos.append(palavra)\n",
        "  palavra_correta = max(candidatos, key = probabilidade)\n",
        "  return palavra_correta"
      ],
      "metadata": {
        "id": "dbnfT15qGlHS"
      },
      "execution_count": 51,
      "outputs": []
    },
    {
      "cell_type": "code",
      "source": [
        "novo_corretor('lóogica')"
      ],
      "metadata": {
        "colab": {
          "base_uri": "https://localhost:8080/",
          "height": 53
        },
        "id": "n7FKOxmMJI2F",
        "outputId": "82970828-f167-4c2a-dedd-831c7e5b22dc"
      },
      "execution_count": 50,
      "outputs": [
        {
          "output_type": "stream",
          "name": "stdout",
          "text": [
            "4\n"
          ]
        },
        {
          "output_type": "execute_result",
          "data": {
            "text/plain": [
              "'lógica'"
            ],
            "application/vnd.google.colaboratory.intrinsic+json": {
              "type": "string"
            }
          },
          "metadata": {},
          "execution_count": 50
        }
      ]
    },
    {
      "cell_type": "code",
      "source": [
        "# Avaliador do corretor v1\n",
        "def avaliador(testes, vocabulario):\n",
        "  numero_palavras_testadas = len(testes)\n",
        "  acertou = 0\n",
        "  desconhecida = 0\n",
        "  for correta, errada in testes: \n",
        "    palavra_corrigida = novo_corretor(errada)\n",
        "    desconhecida += (correta not in vocabulario)\n",
        "    if palavra_corrigida == correta: acertou += 1\n",
        "    else: print(errada + '-' + corretor(errada) + '-' + palavra_corrigida)\n",
        "  taxa_acerto = round(acertou*100/numero_palavras_testadas, 2)\n",
        "  taxa_desconhecida = round(desconhecida*100/numero_palavras_testadas, 2)\n",
        "  print(f'taxa de acerto: {taxa_acerto}% de {numero_palavras_testadas} palavras testadas | Desconhecidas: {taxa_desconhecida}%')\n",
        "\n"
      ],
      "metadata": {
        "id": "Nn34LAPaM7iB"
      },
      "execution_count": 57,
      "outputs": []
    },
    {
      "cell_type": "code",
      "source": [
        "# Avaliador do corretor v2\n",
        "def avaliador(testes, vocabulario):\n",
        "  numero_palavras_testadas = len(testes)\n",
        "  acertou = 0\n",
        "  desconhecida = 0\n",
        "  for correta, errada in testes: \n",
        "    palavra_corrigida = corretor(errada)\n",
        "    desconhecida += (correta not in vocabulario)\n",
        "    if palavra_corrigida == correta: acertou += 1\n",
        "  taxa_acerto = round(acertou*100/numero_palavras_testadas, 2)\n",
        "  taxa_desconhecida = round(desconhecida*100/numero_palavras_testadas, 2)\n",
        "  print(f'taxa de acerto: {taxa_acerto}% de {numero_palavras_testadas} palavras testadas | Desconhecidas: {taxa_desconhecida}%')"
      ],
      "metadata": {
        "id": "kdgUhy8kZr2_"
      },
      "execution_count": 59,
      "outputs": []
    },
    {
      "cell_type": "markdown",
      "source": [
        "# **Resultados**"
      ],
      "metadata": {
        "id": "afxt-w1vqb3s"
      }
    },
    {
      "cell_type": "code",
      "source": [
        "# Teste de vocabulário\n",
        "vocabulario = set(lista_normalizada)\n",
        "avaliador(lista_teste, vocabulario)"
      ],
      "metadata": {
        "colab": {
          "base_uri": "https://localhost:8080/"
        },
        "id": "HEIsQfs1RqIR",
        "outputId": "ac4cf288-a11c-42da-e4bd-ed81e7bed8e3"
      },
      "execution_count": 61,
      "outputs": [
        {
          "output_type": "stream",
          "name": "stdout",
          "text": [
            "taxa de acerto: 76.34% de 186 palavras testadas | Desconhecidas: 6.99%\n"
          ]
        }
      ]
    },
    {
      "cell_type": "code",
      "source": [
        "#Teste de correção\n",
        "\n",
        "palavra = 'lóiigica'\n",
        "print(novo_corretor(palavra))\n",
        "print(corretor(palavra))"
      ],
      "metadata": {
        "colab": {
          "base_uri": "https://localhost:8080/"
        },
        "id": "k2TBL9I6aqBX",
        "outputId": "a63eb1de-fd67-4ee1-ed7e-d593f853c630"
      },
      "execution_count": 73,
      "outputs": [
        {
          "output_type": "stream",
          "name": "stdout",
          "text": [
            "lógica\n",
            "alóiigica\n"
          ]
        }
      ]
    }
  ]
}